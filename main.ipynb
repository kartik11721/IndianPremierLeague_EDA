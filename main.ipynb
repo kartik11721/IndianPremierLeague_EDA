{
 "cells": [
  {
   "cell_type": "markdown",
   "id": "6cf10373",
   "metadata": {},
   "source": [
    "# IPL Exploratory Data Analysis (2008 - 2016)"
   ]
  },
  {
   "cell_type": "code",
   "execution_count": null,
   "id": "c62ed183",
   "metadata": {},
   "outputs": [],
   "source": [
    "import numpy as np\n",
    "import pandas as pd\n",
    "import matplotlib.pyplot as plt\n",
    "import seaborn as sns"
   ]
  },
  {
   "cell_type": "code",
   "execution_count": null,
   "id": "2ddeeb02",
   "metadata": {},
   "outputs": [],
   "source": [
    "!dir"
   ]
  },
  {
   "cell_type": "code",
   "execution_count": null,
   "id": "69b80724",
   "metadata": {},
   "outputs": [],
   "source": [
    "matches = pd.read_csv(\"matches.csv\")\n",
    "deliveries = pd.read_csv(\"deliveries.csv\")"
   ]
  },
  {
   "cell_type": "code",
   "execution_count": null,
   "id": "b656df81",
   "metadata": {},
   "outputs": [],
   "source": [
    "matches.head()"
   ]
  },
  {
   "cell_type": "code",
   "execution_count": null,
   "id": "eb49edd7",
   "metadata": {},
   "outputs": [],
   "source": [
    "matches.info()"
   ]
  },
  {
   "cell_type": "code",
   "execution_count": null,
   "id": "8c06b2a8",
   "metadata": {},
   "outputs": [],
   "source": [
    "# umpire3 does not contain any values so lets drop that column\n",
    "matches.drop(['umpire3'], inplace = True, axis = 1)"
   ]
  },
  {
   "cell_type": "code",
   "execution_count": null,
   "id": "776a1afb",
   "metadata": {
    "scrolled": false
   },
   "outputs": [],
   "source": [
    "matches[pd.isnull(matches['city'])]"
   ]
  },
  {
   "cell_type": "markdown",
   "id": "b5251d01",
   "metadata": {},
   "source": [
    "Here we can see that all the NaN values in `city` column have venue as `Dubai International Cricket Stadium`, So lets change their cities to Dubai"
   ]
  },
  {
   "cell_type": "code",
   "execution_count": null,
   "id": "59c46b64",
   "metadata": {},
   "outputs": [],
   "source": [
    "matches['city'] = matches['city'].fillna(\"DUBAI\")"
   ]
  },
  {
   "cell_type": "code",
   "execution_count": null,
   "id": "37e9553b",
   "metadata": {},
   "outputs": [],
   "source": [
    "matches[pd.isnull(matches['city'])]"
   ]
  },
  {
   "cell_type": "code",
   "execution_count": null,
   "id": "7e7db11c",
   "metadata": {},
   "outputs": [],
   "source": [
    "matches.describe()"
   ]
  },
  {
   "cell_type": "code",
   "execution_count": null,
   "id": "2f940455",
   "metadata": {
    "scrolled": true
   },
   "outputs": [],
   "source": [
    "deliveries.head()"
   ]
  },
  {
   "cell_type": "code",
   "execution_count": null,
   "id": "0a11f8b3",
   "metadata": {},
   "outputs": [],
   "source": [
    "deliveries.info()"
   ]
  },
  {
   "cell_type": "code",
   "execution_count": null,
   "id": "3e9a8ab3",
   "metadata": {},
   "outputs": [],
   "source": [
    "matches.describe()"
   ]
  },
  {
   "cell_type": "code",
   "execution_count": null,
   "id": "b3a505bc",
   "metadata": {},
   "outputs": [],
   "source": [
    "plt.figure(figsize=(14,6))\n",
    "sns.set()\n",
    "sns.barplot(x = list(matches['player_of_match'].value_counts()[0:10].keys()),\n",
    "            y = matches['player_of_match'].value_counts()[0:10],\n",
    "           )\n",
    "plt.xlabel(\"Player Names\",labelpad=14)\n",
    "plt.ylabel(\"Number of Man of the Match\",labelpad=14)\n",
    "plt.title(\"Players with most Man of the Match\",pad = 12)\n",
    "plt.show()\n"
   ]
  },
  {
   "cell_type": "code",
   "execution_count": null,
   "id": "76660c0f",
   "metadata": {},
   "outputs": [],
   "source": [
    "plt.figure(figsize=(24,6))\n",
    "sns.set()\n",
    "sns.barplot(x = list(matches['winner'].value_counts()[0:10].keys()),\n",
    "            y = matches['winner'].value_counts()[0:10],\n",
    "           )\n",
    "plt.xlabel(\"Teams\",labelpad=14)\n",
    "plt.ylabel(\"Number of Wins\",labelpad=14)\n",
    "plt.title(\"Teams with most wins\")\n",
    "plt.show()\n"
   ]
  },
  {
   "cell_type": "code",
   "execution_count": null,
   "id": "ca966e96",
   "metadata": {},
   "outputs": [],
   "source": [
    "# Number of Times a team which has the toss has also won the match\n",
    "np.sum(matches['toss_winner'] == matches['winner'])"
   ]
  },
  {
   "cell_type": "code",
   "execution_count": null,
   "id": "32ae0f87",
   "metadata": {},
   "outputs": [],
   "source": [
    "# Percentage of winning a match if the team has won the toss\n",
    "print('%.2f' % ((np.sum(matches['toss_winner'] == matches['winner'])/ matches.shape[0])*100),'%')"
   ]
  },
  {
   "cell_type": "code",
   "execution_count": null,
   "id": "e76003f3",
   "metadata": {},
   "outputs": [],
   "source": [
    "# Toss Decisions\n",
    "bat = matches['toss_decision'].value_counts()[0]\n",
    "field = matches['toss_decision'].value_counts()[1]\n",
    "\n",
    "plt.pie([bat,field],labels=['bat','field'], colors=sns.color_palette('pastel'), autopct='%.0f%%',shadow = True,startangle=60, explode = (0.1,0))\n",
    "  \n",
    "plt.show()"
   ]
  },
  {
   "cell_type": "code",
   "execution_count": null,
   "id": "c4b60ee9",
   "metadata": {},
   "outputs": [],
   "source": [
    "plt.subplots(figsize=(12,4))\n",
    "sns.countplot(x='season',hue='toss_decision',data=matches)\n",
    "plt.show()"
   ]
  },
  {
   "cell_type": "markdown",
   "id": "adeac90c",
   "metadata": {},
   "source": [
    "### Toss Decision per Stadium (Interactive) "
   ]
  },
  {
   "cell_type": "code",
   "execution_count": null,
   "id": "50db3b12",
   "metadata": {},
   "outputs": [],
   "source": [
    "import ipywidgets as ipyw"
   ]
  },
  {
   "cell_type": "code",
   "execution_count": null,
   "id": "df0e8d4a",
   "metadata": {},
   "outputs": [],
   "source": [
    "def plot_venue(venue):\n",
    "    v = matches.loc[matches['venue'] == venue]\n",
    "    sns.countplot(x='season',hue='toss_decision',data=v)\n",
    "    plt.show()"
   ]
  },
  {
   "cell_type": "code",
   "execution_count": null,
   "id": "61aa03e7",
   "metadata": {},
   "outputs": [],
   "source": [
    "venues = list(matches['venue'].unique())"
   ]
  },
  {
   "cell_type": "code",
   "execution_count": null,
   "id": "8e1bd1f7",
   "metadata": {
    "scrolled": true
   },
   "outputs": [],
   "source": [
    "ipyw.interact(plot_venue,venue = venues);"
   ]
  },
  {
   "cell_type": "markdown",
   "id": "44dba999",
   "metadata": {},
   "source": [
    "data used : https://www.kaggle.com/datasets/manasgarg/ipl"
   ]
  }
 ],
 "metadata": {
  "kernelspec": {
   "display_name": "Python 3 (ipykernel)",
   "language": "python",
   "name": "python3"
  },
  "language_info": {
   "codemirror_mode": {
    "name": "ipython",
    "version": 3
   },
   "file_extension": ".py",
   "mimetype": "text/x-python",
   "name": "python",
   "nbconvert_exporter": "python",
   "pygments_lexer": "ipython3",
   "version": "3.9.12"
  }
 },
 "nbformat": 4,
 "nbformat_minor": 5
}
